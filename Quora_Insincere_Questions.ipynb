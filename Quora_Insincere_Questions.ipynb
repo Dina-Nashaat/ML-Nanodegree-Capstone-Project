{
 "cells": [
  {
   "cell_type": "markdown",
   "metadata": {
    "colab_type": "text",
    "id": "iGpUo1LjSfG3"
   },
   "source": [
    "# Quora Insincere Questions Classification\n",
    "\n",
    "## Introduction\n",
    "\n",
    "In this project, we will tackle Quora's insincere questions classification. The model we should develop flags questions as insincere if they infer toxic or misleading content. This is a classic sentiment classification NLP problem, however, we are going to tackle solving this using a CNN approach and benchmarking its performance against a simple supervised algorithms."
   ]
  },
  {
   "cell_type": "markdown",
   "metadata": {
    "colab_type": "text",
    "id": "L1ogXyGad0zu"
   },
   "source": [
    "## Step 0:  Prepare Imports\n",
    "\n",
    "This section combines all imports and setup scripts used later in the following sections."
   ]
  },
  {
   "cell_type": "code",
   "execution_count": null,
   "metadata": {
    "colab": {
     "base_uri": "https://localhost:8080/",
     "height": 272
    },
    "colab_type": "code",
    "id": "wMgv1_fDUL-F",
    "outputId": "e0afbf55-b169-4cda-f772-d91eef2ad81c"
   },
   "outputs": [],
   "source": [
    "# Download glove in the current directory\n",
    "!wget http://nlp.stanford.edu/data/glove.6B.zip"
   ]
  },
  {
   "cell_type": "code",
   "execution_count": null,
   "metadata": {
    "colab": {},
    "colab_type": "code",
    "id": "aZ4VDiJ_VO8w"
   },
   "outputs": [],
   "source": [
    "# Unzip glove\n",
    "glove_path = os.path.join(PATH, 'glove.6B.zip')\n",
    "glove_zip = zipfile.ZipFile(glove_path, 'r')\n",
    "glove_zip.extractall(PATH)\n",
    "glove_zip.close()"
   ]
  },
  {
   "cell_type": "code",
   "execution_count": 1,
   "metadata": {
    "colab": {},
    "colab_type": "code",
    "id": "sFge-p4C07BI"
   },
   "outputs": [],
   "source": [
    "# Install imbalanced-learn to use SMOTE implementation\n",
    "!pip install -q imbalanced-learn"
   ]
  },
  {
   "cell_type": "code",
   "execution_count": 2,
   "metadata": {
    "colab": {},
    "colab_type": "code",
    "id": "K9-6bVO4Xaxm"
   },
   "outputs": [],
   "source": [
    "PATH = './'"
   ]
  },
  {
   "cell_type": "code",
   "execution_count": 14,
   "metadata": {
    "colab": {
     "base_uri": "https://localhost:8080/",
     "height": 68
    },
    "colab_type": "code",
    "id": "C7vKvc1XlvKc",
    "outputId": "560a4591-f09b-43d8-df84-4f2a1cd5f3b1"
   },
   "outputs": [
    {
     "name": "stdout",
     "output_type": "stream",
     "text": [
      "[nltk_data] Downloading package stopwords to /root/nltk_data...\n",
      "[nltk_data]   Package stopwords is already up-to-date!\n"
     ]
    }
   ],
   "source": [
    "## IMPORTS\n",
    "import re\n",
    "import os\n",
    "import time\n",
    "\n",
    "import numpy as np\n",
    "import pandas as pd\n",
    "import matplotlib.pyplot as plt\n",
    "\n",
    "from imblearn.over_sampling import SMOTE\n",
    "from sklearn.model_selection import train_test_split\n",
    "\n",
    "from keras.models import Sequential\n",
    "from keras.callbacks import ModelCheckpoint\n",
    "\n",
    "from keras.layers import Embedding, Dense, Flatten, Input, Activation\n",
    "from keras.layers import Conv1D, MaxPooling1D, GlobalAveragePooling1D, Dropout\n",
    "\n",
    "from Utilities import *\n",
    "\n",
    "## NLTK DOWNLOADS\n",
    "import nltk\n",
    "from nltk.stem import PorterStemmer\n",
    "nltk.download('stopwords')\n",
    "nltk_wpt = nltk.WordPunctTokenizer()\n",
    "nltk_stopwords = nltk.corpus.stopwords.words('english')"
   ]
  },
  {
   "cell_type": "code",
   "execution_count": 4,
   "metadata": {
    "colab": {},
    "colab_type": "code",
    "id": "YG-GIhhQsKqT"
   },
   "outputs": [],
   "source": [
    "pd.set_option('display.max_colwidth', -1)"
   ]
  },
  {
   "cell_type": "markdown",
   "metadata": {
    "colab_type": "text",
    "id": "4wTHo81fSfG4"
   },
   "source": [
    "## Step 1: Load Dataset"
   ]
  },
  {
   "cell_type": "code",
   "execution_count": 5,
   "metadata": {
    "colab": {},
    "colab_type": "code",
    "id": "ScOwAUpcSfG_"
   },
   "outputs": [],
   "source": [
    "train_data = load_dataset('train', PATH)"
   ]
  },
  {
   "cell_type": "code",
   "execution_count": 7,
   "metadata": {
    "colab": {
     "base_uri": "https://localhost:8080/",
     "height": 476
    },
    "colab_type": "code",
    "id": "5qqskBC9iTWr",
    "outputId": "5b94f8b0-d1ff-4d4a-bea9-57916f5d7643"
   },
   "outputs": [
    {
     "name": "stdout",
     "output_type": "stream",
     "text": [
      "##### Train Data Info #####\n",
      "(1306122, 3)\n"
     ]
    },
    {
     "data": {
      "text/html": [
       "<div>\n",
       "<style>\n",
       "    .dataframe thead tr:only-child th {\n",
       "        text-align: right;\n",
       "    }\n",
       "\n",
       "    .dataframe thead th {\n",
       "        text-align: left;\n",
       "    }\n",
       "\n",
       "    .dataframe tbody tr th {\n",
       "        vertical-align: top;\n",
       "    }\n",
       "</style>\n",
       "<table border=\"1\" class=\"dataframe\">\n",
       "  <thead>\n",
       "    <tr style=\"text-align: right;\">\n",
       "      <th></th>\n",
       "      <th>qid</th>\n",
       "      <th>question_text</th>\n",
       "      <th>target</th>\n",
       "    </tr>\n",
       "  </thead>\n",
       "  <tbody>\n",
       "    <tr>\n",
       "      <th>212313</th>\n",
       "      <td>2984e2c716b2565a2244</td>\n",
       "      <td>What are the prospects you look for when you invest in businesses?</td>\n",
       "      <td>0</td>\n",
       "    </tr>\n",
       "    <tr>\n",
       "      <th>831278</th>\n",
       "      <td>a2e834a75093cdb8cea4</td>\n",
       "      <td>What is the best first class on a plane?</td>\n",
       "      <td>0</td>\n",
       "    </tr>\n",
       "    <tr>\n",
       "      <th>480637</th>\n",
       "      <td>5e1eb5996ec865d065fe</td>\n",
       "      <td>Does blood pressure increase while in movement?</td>\n",
       "      <td>0</td>\n",
       "    </tr>\n",
       "    <tr>\n",
       "      <th>926567</th>\n",
       "      <td>b5941421e1c6e6933379</td>\n",
       "      <td>What causes pelvic floor muscle spasms?</td>\n",
       "      <td>0</td>\n",
       "    </tr>\n",
       "    <tr>\n",
       "      <th>979689</th>\n",
       "      <td>bfec30e457227b1ae910</td>\n",
       "      <td>How should I behave after I get beatdown?</td>\n",
       "      <td>0</td>\n",
       "    </tr>\n",
       "  </tbody>\n",
       "</table>\n",
       "</div>"
      ],
      "text/plain": [
       "                         qid  \\\n",
       "212313  2984e2c716b2565a2244   \n",
       "831278  a2e834a75093cdb8cea4   \n",
       "480637  5e1eb5996ec865d065fe   \n",
       "926567  b5941421e1c6e6933379   \n",
       "979689  bfec30e457227b1ae910   \n",
       "\n",
       "                                                             question_text  \\\n",
       "212313  What are the prospects you look for when you invest in businesses?   \n",
       "831278  What is the best first class on a plane?                             \n",
       "480637  Does blood pressure increase while in movement?                      \n",
       "926567  What causes pelvic floor muscle spasms?                              \n",
       "979689  How should I behave after I get beatdown?                            \n",
       "\n",
       "        target  \n",
       "212313  0       \n",
       "831278  0       \n",
       "480637  0       \n",
       "926567  0       \n",
       "979689  0       "
      ]
     },
     "execution_count": 7,
     "metadata": {},
     "output_type": "execute_result"
    }
   ],
   "source": [
    "print(\"##### Train Data Info #####\")\n",
    "print(train_data.shape)\n",
    "train_data.sample(5)"
   ]
  },
  {
   "cell_type": "code",
   "execution_count": 8,
   "metadata": {
    "colab": {
     "base_uri": "https://localhost:8080/",
     "height": 529
    },
    "colab_type": "code",
    "id": "KZJ0MvseiAHH",
    "outputId": "a1d9a6da-1f55-40a6-c01d-26fc6bbbfea4"
   },
   "outputs": [
    {
     "name": "stdout",
     "output_type": "stream",
     "text": [
      "###### Value Counts: ######\n",
      "0    1225312\n",
      "1    80810  \n",
      "Name: target, dtype: int64\n"
     ]
    },
    {
     "data": {
      "image/png": "[encoded data removed]",
      "text/plain": [
       "<matplotlib.figure.Figure at 0x7fe86e4a8438>"
      ]
     },
     "metadata": {
      "needs_background": "light"
     },
     "output_type": "display_data"
    }
   ],
   "source": [
    "## Understanding Training Data\n",
    "fig, ax = plt.subplots(nrows=1, ncols=1)\n",
    "print('###### Value Counts: ######')\n",
    "target_count = train_data['target'].value_counts()\n",
    "print(target_count)\n",
    "visualize_bar(target_count, 'Training Set', 'Number of questions', 'barh', ax)"
   ]
  },
  {
   "cell_type": "markdown",
   "metadata": {
    "colab_type": "text",
    "id": "vWmQLr4-cqBB"
   },
   "source": [
    "## Step 2: Undersampling\n",
    " From the barchart above, we can clearly detect imbalanced data, the ratio between Class 0 : Class 1 is 15:1, this imposes a problem because it can potentially overfit our data, and the model will always favor class 0 (sincere question).\n",
    " \n",
    "To mitigate the issue, there are a number of techniques that can be used to prevent the overfitting problem, one of the techniques we're going to try in this solution is to undersample our data since our dataset is large. We will use a small proportion of class 0, and change the ratio to approximately 1:1"
   ]
  },
  {
   "cell_type": "code",
   "execution_count": 9,
   "metadata": {
    "colab": {},
    "colab_type": "code",
    "id": "sEiX-n-zdGdz"
   },
   "outputs": [],
   "source": [
    "X = train_data['question_text']\n",
    "y = train_data['target']\n",
    "train_x, test_x, train_y, test_y = train_test_split(X, y, test_size=0.2, random_state=42)"
   ]
  },
  {
   "cell_type": "code",
   "execution_count": 10,
   "metadata": {
    "colab": {
     "base_uri": "https://localhost:8080/",
     "height": 461
    },
    "colab_type": "code",
    "id": "UC-450adsjFV",
    "outputId": "6f203bf2-64bb-4744-eee2-1400bbbb5e7c"
   },
   "outputs": [
    {
     "name": "stdout",
     "output_type": "stream",
     "text": [
      "Ratio of Class 1 to Class 0 in Training and Testing sets\n"
     ]
    },
    {
     "data": {
      "image/png": "[encoded data removed]",
      "text/plain": [
       "<matplotlib.figure.Figure at 0x7fe86e830eb8>"
      ]
     },
     "metadata": {
      "needs_background": "light"
     },
     "output_type": "display_data"
    }
   ],
   "source": [
    "print(\"Ratio of Class 1 to Class 0 in Training and Testing sets\")\n",
    "fig, axes = plt.subplots(nrows=1, ncols=2)\n",
    "visualize_bar(train_y.value_counts(), 'Training Set', 'Number of questions', 'barh', axes[0])\n",
    "visualize_bar(test_y.value_counts(), 'Testing Set', 'Number of questions', 'barh', axes[1])"
   ]
  },
  {
   "cell_type": "code",
   "execution_count": 11,
   "metadata": {
    "colab": {},
    "colab_type": "code",
    "id": "C0_X5ln5kC4C"
   },
   "outputs": [],
   "source": [
    "data_train = pd.concat([train_x, train_y], axis=1)\n",
    "data_test = pd.concat([test_x, test_y], axis=1)"
   ]
  },
  {
   "cell_type": "code",
   "execution_count": 112,
   "metadata": {
    "colab": {
     "base_uri": "https://localhost:8080/",
     "height": 596
    },
    "colab_type": "code",
    "id": "ZXySYsc-ylRa",
    "outputId": "796dc478-47f0-491f-c468-95390d5d5567"
   },
   "outputs": [
    {
     "name": "stdout",
     "output_type": "stream",
     "text": [
      "**** Training Set Sampling ****\n",
      "Ratio of class 0 to class 1 is 1:1\n",
      "Training sample shape:  (169443, 2)\n",
      "Training samples targets count: \n",
      "0    104489\n",
      "1    64954 \n",
      "Name: target, dtype: int64\n",
      "**** Test Set Sampling ****\n",
      "Ratio is 1:1\n",
      "Testing sample shape:  (41978, 2)\n",
      "Testing samples targets count: \n",
      "0    26122\n",
      "1    15856\n",
      "Name: target, dtype: int64\n"
     ]
    },
    {
     "data": {
      "text/plain": [
       "<matplotlib.axes._subplots.AxesSubplot at 0x7fe800a1eac8>"
      ]
     },
     "execution_count": 112,
     "metadata": {},
     "output_type": "execute_result"
    },
    {
     "data": {
      "image/png": "[encoded data removed]",
      "text/plain": [
       "<matplotlib.figure.Figure at 0x7fe82ae1b160>"
      ]
     },
     "metadata": {
      "needs_background": "light"
     },
     "output_type": "display_data"
    }
   ],
   "source": [
    "train_sample = undersample(0, 1, data_train, 0.1)\n",
    "test_sample = undersample(0, 1, data_test, 0.1)\n",
    "\n",
    "print(\"**** Training Set Sampling ****\")\n",
    "train_count = train_sample['target'].value_counts()\n",
    "train_ratio = train_count[0] // train_count[1]\n",
    "print('Ratio of class 0 to class 1 is {}:1'.format(train_ratio))\n",
    "print('Training sample shape: ', train_sample.shape)\n",
    "print('Training samples targets count: ')\n",
    "print(train_count)\n",
    "\n",
    "\n",
    "print(\"**** Test Set Sampling ****\")\n",
    "test_count = test_sample['target'].value_counts()\n",
    "test_ratio = test_count[0] // test_count[1]\n",
    "print('Ratio is {}:1'.format(test_ratio))\n",
    "print('Testing sample shape: ', test_sample.shape)\n",
    "print('Testing samples targets count: ')\n",
    "print(test_count)\n",
    "\n",
    "fig, axes = plt.subplots(nrows=1, ncols=2)\n",
    "train_count.plot.bar(ax=axes[0], title='Training Set')\n",
    "test_count.plot.bar(ax=axes[1], title='Testing Set')"
   ]
  },
  {
   "cell_type": "code",
   "execution_count": 113,
   "metadata": {},
   "outputs": [],
   "source": [
    "# Assign features and labels as X and Y to be later used in the training set\n",
    "train_sample_x = train_sample['question_text']\n",
    "train_sample_y = train_sample['target']\n",
    "\n",
    "test_sample_x = test_sample['question_text']\n",
    "test_sample_y = test_sample['target']"
   ]
  },
  {
   "cell_type": "markdown",
   "metadata": {
    "colab_type": "text",
    "id": "MsSzrfTTSfHT"
   },
   "source": [
    "## Step 3: Feature Engineering\n",
    "\n",
    "In this section, we will perform some feature engineering to adjust the dataset and reduce its vocabulary. Steps will include:\n",
    "\n",
    "- Lower casing the dataset\n",
    "- Removing punctuation\n",
    "- Removing Stopwords\n",
    "<!-- - Lemmatization and Stemming -->"
   ]
  },
  {
   "cell_type": "code",
   "execution_count": 114,
   "metadata": {
    "colab": {},
    "colab_type": "code",
    "id": "9-JXEWwRSfHT"
   },
   "outputs": [],
   "source": [
    "porter = PorterStemmer()\n",
    "def feature_pipeline(sentence):\n",
    "    sentence = sentence.lower()\n",
    "    sentence = sentence.strip()\n",
    "    # Remove Punctuation and numbers\n",
    "    sentence = re.sub(r\"[^a-zA-Z]+\", ' ', sentence)\n",
    "    # Word Punkt Tokenizer\n",
    "    tokenized_sentence = nltk_wpt.tokenize(sentence)\n",
    "    # Stem each tokenized word\n",
    "    sentence = stem_sentence(tokenized_sentence)\n",
    "    sentence = ' '.join([token for token in sentence if token not in nltk_stopwords])\n",
    "    return sentence\n",
    "\n",
    "def stem_sentence(tokenized_sentence):\n",
    "    stem_sentence = []\n",
    "    for word in tokenized_sentence:\n",
    "        stem_sentence.append(porter.stem(word))\n",
    "    return stem_sentence"
   ]
  },
  {
   "cell_type": "code",
   "execution_count": 115,
   "metadata": {
    "colab": {
     "base_uri": "https://localhost:8080/",
     "height": 51
    },
    "colab_type": "code",
    "id": "5mypr4RhmKzc",
    "outputId": "9430c26a-0299-4cf4-caa7-85065225195b"
   },
   "outputs": [],
   "source": [
    "formatted_train_sample_x = train_sample_x.apply(feature_pipeline)"
   ]
  },
  {
   "cell_type": "markdown",
   "metadata": {
    "colab_type": "text",
    "id": "_suE9PL5l9l0"
   },
   "source": [
    "## Step 4: Input Vectorization Techniques"
   ]
  },
  {
   "cell_type": "markdown",
   "metadata": {},
   "source": [
    "### 4.1 Input Vectorization with Word Embeddings\n"
   ]
  },
  {
   "cell_type": "code",
   "execution_count": 116,
   "metadata": {
    "colab": {},
    "colab_type": "code",
    "id": "ilGQ0R34Toj7"
   },
   "outputs": [],
   "source": [
    "MAX_SEQUENCE_LENGTH = 161 # The longest token in both test and train tests\n",
    "word_index, padded_train = tokenize_and_pad(formatted_train_sample_x, MAX_SEQUENCE_LENGTH,  True)\n",
    "padded_test = tokenize_and_pad(test_sample_x, MAX_SEQUENCE_LENGTH)"
   ]
  },
  {
   "cell_type": "code",
   "execution_count": 117,
   "metadata": {
    "colab": {
     "base_uri": "https://localhost:8080/",
     "height": 68
    },
    "colab_type": "code",
    "id": "y1CTAWifwq3T",
    "outputId": "85aa818b-da61-47e6-88c1-910879d957c4"
   },
   "outputs": [
    {
     "name": "stdout",
     "output_type": "stream",
     "text": [
      "Found 44159 unique tokens in training set\n",
      "Shape of training tensor: (169443, 161)\n",
      "Shape of test tensor: (41978, 161)\n"
     ]
    }
   ],
   "source": [
    "print('Found %s unique tokens in training set' % len(word_index))\n",
    "print('Shape of training tensor:', padded_train.shape)\n",
    "print('Shape of test tensor:', padded_test.shape)"
   ]
  },
  {
   "cell_type": "code",
   "execution_count": 118,
   "metadata": {
    "colab": {
     "base_uri": "https://localhost:8080/",
     "height": 34
    },
    "colab_type": "code",
    "id": "aTms0OQfTv_H",
    "outputId": "cfa3d4e9-7f31-4894-bb5d-d69e1ff4d3cd"
   },
   "outputs": [
    {
     "name": "stdout",
     "output_type": "stream",
     "text": [
      "Found 400000 word vectors.\n"
     ]
    }
   ],
   "source": [
    "DIMENSION = 100\n",
    "embeddings_index = {}\n",
    "f = open(os.path.join(PATH, f'glove.6B.{DIMENSION}d.txt'))\n",
    "for line in f:\n",
    "    values = line.split()\n",
    "    word = values[0]\n",
    "    coefs = np.asarray(values[1:], dtype='float32')\n",
    "    embeddings_index[word] = coefs\n",
    "f.close()\n",
    "\n",
    "print('Found %s word vectors.' % len(embeddings_index))"
   ]
  },
  {
   "cell_type": "code",
   "execution_count": 119,
   "metadata": {
    "colab": {},
    "colab_type": "code",
    "id": "RhpNWlBJWGrN"
   },
   "outputs": [],
   "source": [
    "embedding_matrix = np.zeros((len(word_index) + 1, DIMENSION))\n",
    "for word, i in word_index.items():\n",
    "    embedding_vector = embeddings_index.get(word)\n",
    "    if embedding_vector is not None:\n",
    "        # words not found in embedding index will be all-zeros.\n",
    "        embedding_matrix[i] = embedding_vector"
   ]
  },
  {
   "cell_type": "markdown",
   "metadata": {},
   "source": [
    "### 4.2 Oversampling undersampled dataset\n",
    "Imblearn is a library that provides implementation for SMOTE to oversample our input data to mitigate for the imbalanced training set. The goal here is to bridge the gap between the two binary classes. The reason we perform this step on the previously undersampled dataset is because our original dataset is huge and if we perform oversampling on the original dataset it will likely malfunction in our model, and will not yield the correct results, also it is going to take a lot of time to converge, so the performance of the model is going to be slow and might not yield the correct result."
   ]
  },
  {
   "cell_type": "code",
   "execution_count": 62,
   "metadata": {},
   "outputs": [],
   "source": [
    "# from imblearn.over_sampling import SMOTE\n",
    "\n",
    "# smote = SMOTE('minority')\n",
    "# X_smote, y_smote = smote.fit_sample(padded_train, train_sample_y)"
   ]
  },
  {
   "cell_type": "code",
   "execution_count": 63,
   "metadata": {},
   "outputs": [
    {
     "name": "stdout",
     "output_type": "stream",
     "text": [
      "(482912, 161) (482912,)\n",
      "(835916, 161) (835916,)\n",
      "[0 1] [417958 417958]\n"
     ]
    }
   ],
   "source": [
    "# print(padded_train.shape, train_sample_y.shape)\n",
    "# print(X_smote.shape, y_smote.shape)\n",
    "# unique, counts = np.unique(y_smote, return_counts=True)\n",
    "# print(unique, counts)"
   ]
  },
  {
   "cell_type": "markdown",
   "metadata": {},
   "source": [
    "## Step 5: Training the Model"
   ]
  },
  {
   "cell_type": "markdown",
   "metadata": {
    "colab_type": "text",
    "id": "rwGOyjl4Zqi1"
   },
   "source": [
    "### 5.1 Naive Bayes Model\n",
    "Naive bayes is used as the benchmark model to compare our CNN results to"
   ]
  },
  {
   "cell_type": "code",
   "execution_count": 70,
   "metadata": {},
   "outputs": [
    {
     "data": {
      "text/plain": [
       "((835916, 161), (835916,), (120346, 161))"
      ]
     },
     "execution_count": 70,
     "metadata": {},
     "output_type": "execute_result"
    }
   ],
   "source": [
    "# ## NAIVE BAYES MODEL USING EMBEDDINGS AND SMOTE INPUT\n",
    "# from sklearn.naive_bayes import MultinomialNB\n",
    "# naive_bayes = MultinomialNB()\n",
    "# naive_bayes.fit(X_smote, y_smote)\n",
    "# NBpredictionsSMOTE = naive_bayes.predict(padded_test)\n",
    "# X_smote.shape, y_smote.shape, padded_test.shape"
   ]
  },
  {
   "cell_type": "code",
   "execution_count": 120,
   "metadata": {},
   "outputs": [],
   "source": [
    "## NAIVE BAYES MODEL USING WORD EMBEDDINGS\n",
    "from sklearn.naive_bayes import MultinomialNB\n",
    "naive_bayes = MultinomialNB()\n",
    "naive_bayes.fit(padded_train, train_sample_y)\n",
    "NBpredictions = naive_bayes.predict(padded_test)"
   ]
  },
  {
   "cell_type": "markdown",
   "metadata": {
    "colab_type": "text",
    "id": "SldtGtd-t-8P"
   },
   "source": [
    "### 5.1 CNN Model\n",
    "\n",
    "In this step we experiment with numerious hyperparameters and layers of CNN to improve the overall output model"
   ]
  },
  {
   "cell_type": "code",
   "execution_count": 187,
   "metadata": {
    "colab": {},
    "colab_type": "code",
    "id": "XwltSR6d8m83"
   },
   "outputs": [],
   "source": [
    "# Hyperparameters\n",
    "EPOCHS = 50\n",
    "VAL_SPLIT = 0.2\n",
    "MAX_SEQUENCE_LENGTH=161"
   ]
  },
  {
   "cell_type": "code",
   "execution_count": 164,
   "metadata": {
    "colab": {},
    "colab_type": "code",
    "id": "KXe7zvj0YOHg"
   },
   "outputs": [],
   "source": [
    "embedding_layer = Embedding(len(word_index) + 1,\n",
    "                            DIMENSION,\n",
    "                            weights=[embedding_matrix],\n",
    "                            input_length=MAX_SEQUENCE_LENGTH,\n",
    "                            trainable=False)"
   ]
  },
  {
   "cell_type": "code",
   "execution_count": 194,
   "metadata": {
    "colab": {
     "base_uri": "https://localhost:8080/",
     "height": 323
    },
    "colab_type": "code",
    "id": "uZnULRQKgAjE",
    "outputId": "edefab02-7dce-4b8b-9737-69650a362e9c"
   },
   "outputs": [
    {
     "name": "stdout",
     "output_type": "stream",
     "text": [
      "_________________________________________________________________\n",
      "Layer (type)                 Output Shape              Param #   \n",
      "=================================================================\n",
      "embedding_5 (Embedding)      (None, 161, 100)          4416000   \n",
      "_________________________________________________________________\n",
      "dense_85 (Dense)             (None, 161, 256)          25856     \n",
      "_________________________________________________________________\n",
      "dropout_60 (Dropout)         (None, 161, 256)          0         \n",
      "_________________________________________________________________\n",
      "flatten_34 (Flatten)         (None, 41216)             0         \n",
      "_________________________________________________________________\n",
      "dense_86 (Dense)             (None, 1)                 41217     \n",
      "=================================================================\n",
      "Total params: 4,483,073\n",
      "Trainable params: 67,073\n",
      "Non-trainable params: 4,416,000\n",
      "_________________________________________________________________\n",
      "None\n"
     ]
    }
   ],
   "source": [
    "## CNN USING EMBEDDINGS AND SMOTE INPUT\n",
    "# define model\n",
    "import keras\n",
    "from keras import regularizers\n",
    "\n",
    "\n",
    "optimizer = keras.optimizers.Adam(lr=0.01, beta_1=0.7, beta_2=0.999, epsilon=1e-8)\n",
    "model = Sequential()\n",
    "model.add(embedding_layer)\n",
    "model.add(Dense(256, activation='relu', kernel_regularizer=regularizers.l2(0.001)))\n",
    "model.add(Dropout(0.5))\n",
    "model.add(Flatten())\n",
    "model.add(Dense(1, activation='sigmoid'))\n",
    "\n",
    "# compile the model\n",
    "model.compile(optimizer='adam', loss='binary_crossentropy', metrics=['accuracy'])\n",
    "# summarize the model\n",
    "print(model.summary())"
   ]
  },
  {
   "cell_type": "code",
   "execution_count": 195,
   "metadata": {},
   "outputs": [
    {
     "name": "stdout",
     "output_type": "stream",
     "text": [
      "Train on 135554 samples, validate on 33889 samples\n",
      "Epoch 1/50\n",
      "135554/135554 [==============================] - 46s 336us/step - loss: 0.3607 - acc: 0.8611 - val_loss: 0.6991 - val_acc: 0.6487\n",
      "Epoch 2/50\n",
      "135554/135554 [==============================] - 46s 339us/step - loss: 0.3361 - acc: 0.8701 - val_loss: 0.8349 - val_acc: 0.5817\n",
      "Epoch 3/50\n",
      "135554/135554 [==============================] - 46s 343us/step - loss: 0.3330 - acc: 0.8721 - val_loss: 0.8371 - val_acc: 0.5949\n",
      "Epoch 4/50\n",
      "135554/135554 [==============================] - 46s 338us/step - loss: 0.3293 - acc: 0.8733 - val_loss: 0.7746 - val_acc: 0.6111\n",
      "Epoch 5/50\n",
      "135554/135554 [==============================] - 46s 337us/step - loss: 0.3278 - acc: 0.8746 - val_loss: 0.6888 - val_acc: 0.6569\n",
      "Epoch 6/50\n",
      "135554/135554 [==============================] - 48s 352us/step - loss: 0.3276 - acc: 0.8742 - val_loss: 1.0070 - val_acc: 0.4856\n",
      "Epoch 7/50\n",
      "135554/135554 [==============================] - 46s 339us/step - loss: 0.3272 - acc: 0.8739 - val_loss: 0.7991 - val_acc: 0.6070\n",
      "Epoch 8/50\n",
      "135554/135554 [==============================] - 45s 330us/step - loss: 0.3252 - acc: 0.8748 - val_loss: 0.6389 - val_acc: 0.6823\n",
      "Epoch 9/50\n",
      "135554/135554 [==============================] - 46s 340us/step - loss: 0.3262 - acc: 0.8742 - val_loss: 0.6569 - val_acc: 0.6714\n",
      "Epoch 10/50\n",
      "135554/135554 [==============================] - 46s 343us/step - loss: 0.3261 - acc: 0.8738 - val_loss: 0.7848 - val_acc: 0.6039\n",
      "Epoch 11/50\n",
      "135554/135554 [==============================] - 43s 315us/step - loss: 0.3252 - acc: 0.8752 - val_loss: 0.6131 - val_acc: 0.7042\n",
      "Epoch 12/50\n",
      "135554/135554 [==============================] - 44s 323us/step - loss: 0.3249 - acc: 0.8753 - val_loss: 0.6996 - val_acc: 0.6446\n",
      "Epoch 13/50\n",
      "135554/135554 [==============================] - 44s 324us/step - loss: 0.3251 - acc: 0.8748 - val_loss: 1.0015 - val_acc: 0.4872\n",
      "Epoch 14/50\n",
      "135554/135554 [==============================] - 43s 318us/step - loss: 0.3248 - acc: 0.8745 - val_loss: 0.6608 - val_acc: 0.6716\n",
      "Epoch 15/50\n",
      "135554/135554 [==============================] - 44s 324us/step - loss: 0.3239 - acc: 0.8757 - val_loss: 0.6084 - val_acc: 0.6976\n",
      "Epoch 16/50\n",
      "135554/135554 [==============================] - 45s 330us/step - loss: 0.3230 - acc: 0.8756 - val_loss: 0.6900 - val_acc: 0.6554\n",
      "Epoch 17/50\n",
      "135554/135554 [==============================] - 45s 335us/step - loss: 0.3241 - acc: 0.8745 - val_loss: 0.6630 - val_acc: 0.6734\n",
      "Epoch 18/50\n",
      "135554/135554 [==============================] - 46s 338us/step - loss: 0.3242 - acc: 0.8740 - val_loss: 0.8518 - val_acc: 0.5680\n",
      "Epoch 19/50\n",
      "135554/135554 [==============================] - 47s 343us/step - loss: 0.3233 - acc: 0.8750 - val_loss: 0.7557 - val_acc: 0.6133\n",
      "Epoch 20/50\n",
      "135554/135554 [==============================] - 47s 344us/step - loss: 0.3231 - acc: 0.8752 - val_loss: 0.7094 - val_acc: 0.6335\n",
      "Epoch 21/50\n",
      "135554/135554 [==============================] - 47s 344us/step - loss: 0.3224 - acc: 0.8749 - val_loss: 0.8064 - val_acc: 0.5853\n",
      "Epoch 22/50\n",
      "135554/135554 [==============================] - 45s 334us/step - loss: 0.3227 - acc: 0.8752 - val_loss: 0.6871 - val_acc: 0.6487\n",
      "Epoch 23/50\n",
      "135554/135554 [==============================] - 44s 323us/step - loss: 0.3222 - acc: 0.8742 - val_loss: 0.6767 - val_acc: 0.6525\n",
      "Epoch 24/50\n",
      "135554/135554 [==============================] - 44s 322us/step - loss: 0.3237 - acc: 0.8749 - val_loss: 0.7032 - val_acc: 0.6409\n",
      "Epoch 25/50\n",
      "135554/135554 [==============================] - 46s 337us/step - loss: 0.3233 - acc: 0.8738 - val_loss: 0.7617 - val_acc: 0.6170\n",
      "Epoch 26/50\n",
      "135554/135554 [==============================] - 46s 336us/step - loss: 0.3224 - acc: 0.8749 - val_loss: 0.6457 - val_acc: 0.6775\n",
      "Epoch 27/50\n",
      "135554/135554 [==============================] - 46s 339us/step - loss: 0.3232 - acc: 0.8729 - val_loss: 0.7169 - val_acc: 0.6342\n",
      "Epoch 28/50\n",
      "135554/135554 [==============================] - 46s 338us/step - loss: 0.3232 - acc: 0.8734 - val_loss: 0.6367 - val_acc: 0.6778\n",
      "Epoch 29/50\n",
      "135554/135554 [==============================] - 47s 344us/step - loss: 0.3230 - acc: 0.8741 - val_loss: 0.7560 - val_acc: 0.6129\n",
      "Epoch 30/50\n",
      "135554/135554 [==============================] - 47s 346us/step - loss: 0.3229 - acc: 0.8746 - val_loss: 0.7106 - val_acc: 0.6380\n",
      "Epoch 31/50\n",
      "135554/135554 [==============================] - 46s 343us/step - loss: 0.3217 - acc: 0.8746 - val_loss: 0.7155 - val_acc: 0.6442\n",
      "Epoch 32/50\n",
      "135554/135554 [==============================] - 46s 341us/step - loss: 0.3217 - acc: 0.8757 - val_loss: 0.8449 - val_acc: 0.5592\n",
      "Epoch 33/50\n",
      "135554/135554 [==============================] - 47s 348us/step - loss: 0.3228 - acc: 0.8735 - val_loss: 0.6114 - val_acc: 0.6934\n",
      "Epoch 34/50\n",
      "135554/135554 [==============================] - 45s 336us/step - loss: 0.3216 - acc: 0.8745 - val_loss: 0.6790 - val_acc: 0.6573\n",
      "Epoch 35/50\n",
      "135554/135554 [==============================] - 46s 338us/step - loss: 0.3215 - acc: 0.8748 - val_loss: 0.6570 - val_acc: 0.6710\n",
      "Epoch 36/50\n",
      "135554/135554 [==============================] - 46s 339us/step - loss: 0.3229 - acc: 0.8745 - val_loss: 0.7073 - val_acc: 0.6373\n",
      "Epoch 37/50\n",
      "135554/135554 [==============================] - 46s 339us/step - loss: 0.3221 - acc: 0.8737 - val_loss: 0.6711 - val_acc: 0.6610\n",
      "Epoch 38/50\n",
      "135554/135554 [==============================] - 45s 333us/step - loss: 0.3221 - acc: 0.8736 - val_loss: 0.7766 - val_acc: 0.5921\n",
      "Epoch 39/50\n",
      "135554/135554 [==============================] - 46s 339us/step - loss: 0.3223 - acc: 0.8739 - val_loss: 0.8131 - val_acc: 0.5732\n",
      "Epoch 40/50\n",
      "135554/135554 [==============================] - 47s 346us/step - loss: 0.3228 - acc: 0.8742 - val_loss: 0.8481 - val_acc: 0.5586\n",
      "Epoch 41/50\n",
      "135554/135554 [==============================] - 46s 341us/step - loss: 0.3215 - acc: 0.8742 - val_loss: 0.7090 - val_acc: 0.6403\n",
      "Epoch 42/50\n",
      "135554/135554 [==============================] - 46s 343us/step - loss: 0.3228 - acc: 0.8738 - val_loss: 0.7532 - val_acc: 0.6166\n",
      "Epoch 43/50\n",
      "135554/135554 [==============================] - 47s 347us/step - loss: 0.3215 - acc: 0.8747 - val_loss: 0.7923 - val_acc: 0.5892\n",
      "Epoch 44/50\n",
      "135554/135554 [==============================] - 46s 341us/step - loss: 0.3214 - acc: 0.8741 - val_loss: 0.7253 - val_acc: 0.6216\n",
      "Epoch 45/50\n",
      "135554/135554 [==============================] - 46s 337us/step - loss: 0.3223 - acc: 0.8739 - val_loss: 0.7679 - val_acc: 0.6056\n",
      "Epoch 46/50\n",
      "135554/135554 [==============================] - 45s 333us/step - loss: 0.3218 - acc: 0.8736 - val_loss: 0.7792 - val_acc: 0.5996\n",
      "Epoch 47/50\n",
      "135554/135554 [==============================] - 44s 325us/step - loss: 0.3227 - acc: 0.8742 - val_loss: 0.6464 - val_acc: 0.6787\n",
      "Epoch 48/50\n",
      "135554/135554 [==============================] - 44s 328us/step - loss: 0.3221 - acc: 0.8734 - val_loss: 0.8344 - val_acc: 0.5707\n",
      "Epoch 49/50\n",
      "135554/135554 [==============================] - 44s 324us/step - loss: 0.3211 - acc: 0.8740 - val_loss: 0.6913 - val_acc: 0.6487\n",
      "Epoch 50/50\n",
      "135554/135554 [==============================] - 45s 333us/step - loss: 0.3221 - acc: 0.8732 - val_loss: 0.7902 - val_acc: 0.5945\n"
     ]
    }
   ],
   "source": [
    "from keras.utils.np_utils import to_categorical\n",
    "y_binary = to_categorical(train_sample_y)\n",
    "\n",
    "# fit the model\n",
    "history = model.fit(padded_train,\n",
    "          train_sample_y,\n",
    "          epochs=EPOCHS,\n",
    "          verbose=1,\n",
    "          validation_split=0.2,\n",
    "#           class_weight={0:1, 1:2}\n",
    "         )"
   ]
  },
  {
   "cell_type": "markdown",
   "metadata": {},
   "source": [
    "### CNN Prediction\n",
    "Predict Classes for the sample test data"
   ]
  },
  {
   "cell_type": "code",
   "execution_count": 196,
   "metadata": {},
   "outputs": [],
   "source": [
    "CNNpredictionsClass = model.predict_classes(padded_test, verbose=0)\n",
    "CNNpredictions = model.predict(padded_test, verbose=0)"
   ]
  },
  {
   "cell_type": "markdown",
   "metadata": {
    "colab_type": "text",
    "id": "-Y3GnNkbf8BV"
   },
   "source": [
    "## Step 6: Metrics and Score\n",
    "\n",
    "In this step we perform a comparison between the benchmark model and the CNN model using the F1-Score to measure their performance."
   ]
  },
  {
   "cell_type": "code",
   "execution_count": 197,
   "metadata": {
    "colab": {
     "base_uri": "https://localhost:8080/",
     "height": 170
    },
    "colab_type": "code",
    "id": "g9YuxXIUlu1H",
    "outputId": "6d811119-3f3b-430f-89f2-b0da6f67d30a"
   },
   "outputs": [],
   "source": [
    "from sklearn import metrics\n",
    "def get_metrics(true_labels, predicted_labels, feature):\n",
    "    print(feature)\n",
    "    print('Accuracy:', metrics.accuracy_score(true_labels, predicted_labels))\n",
    "    print('Precision:', metrics.precision_score(true_labels, predicted_labels))\n",
    "    print('Recall:', metrics.recall_score(true_labels, predicted_labels))\n",
    "    print('F1 Score:', metrics.f1_score(true_labels, predicted_labels))\n",
    "    print('\\n')"
   ]
  },
  {
   "cell_type": "markdown",
   "metadata": {},
   "source": [
    "### 6.1 Naive Bayes Model Accuracy"
   ]
  },
  {
   "cell_type": "code",
   "execution_count": 141,
   "metadata": {
    "colab": {},
    "colab_type": "code",
    "id": "AJN3QTovhtxd"
   },
   "outputs": [
    {
     "name": "stdout",
     "output_type": "stream",
     "text": [
      "Predictions for NB\n",
      "Accuracy: 0.607937491067\n",
      "Precision: 0.485467361916\n",
      "Recall: 0.634144803229\n",
      "F1 Score: 0.549934368847\n",
      "\n",
      "\n"
     ]
    }
   ],
   "source": [
    "get_metrics(test_sample_y, NBpredictions, 'Predictions for NB')"
   ]
  },
  {
   "cell_type": "markdown",
   "metadata": {
    "colab": {},
    "colab_type": "code",
    "id": "TXRoJHkoKvdc"
   },
   "source": [
    "### 6.2 CNN Model Accuracy"
   ]
  },
  {
   "cell_type": "code",
   "execution_count": 198,
   "metadata": {},
   "outputs": [
    {
     "name": "stdout",
     "output_type": "stream",
     "text": [
      "Predictions for CNN\n",
      "Accuracy: 0.466434799181\n",
      "Precision: 0.367302231237\n",
      "Recall: 0.571014127144\n",
      "F1 Score: 0.44704488224\n",
      "\n",
      "\n"
     ]
    }
   ],
   "source": [
    "get_metrics(test_sample_y, CNNpredictionsClass, 'Predictions for CNN')"
   ]
  },
  {
   "cell_type": "code",
   "execution_count": 199,
   "metadata": {},
   "outputs": [
    {
     "data": {
      "image/png": "[encoded data removed]",
      "text/plain": [
       "<matplotlib.figure.Figure at 0x7fe7db73ecc0>"
      ]
     },
     "metadata": {
      "needs_background": "light"
     },
     "output_type": "display_data"
    },
    {
     "data": {
      "image/png": "[encoded data removed]",
      "text/plain": [
       "<matplotlib.figure.Figure at 0x7fe7db7905c0>"
      ]
     },
     "metadata": {
      "needs_background": "light"
     },
     "output_type": "display_data"
    }
   ],
   "source": [
    "# summarize history for accuracy\n",
    "plt.plot(history.history['acc'])\n",
    "plt.plot(history.history['val_acc'])\n",
    "plt.title('model accuracy')\n",
    "plt.ylabel('accuracy')\n",
    "plt.xlabel('epoch')\n",
    "plt.legend(['train', 'test'], loc='upper left')\n",
    "plt.show()\n",
    "\n",
    "# summarize history for loss\n",
    "plt.plot(history.history['loss'])\n",
    "plt.plot(history.history['val_loss'])\n",
    "plt.title('model loss')\n",
    "plt.ylabel('loss')\n",
    "plt.xlabel('epoch')\n",
    "plt.legend(['train', 'test'], loc='upper left')\n",
    "plt.show()"
   ]
  },
  {
   "cell_type": "code",
   "execution_count": null,
   "metadata": {},
   "outputs": [],
   "source": []
  },
  {
   "cell_type": "code",
   "execution_count": null,
   "metadata": {},
   "outputs": [],
   "source": []
  }
 ],
 "metadata": {
  "accelerator": "TPU",
  "colab": {
   "collapsed_sections": [],
   "name": "Quora Insincere Questions.ipynb",
   "provenance": [],
   "version": "0.3.2"
  },
  "kernelspec": {
   "display_name": "Python 3",
   "language": "python",
   "name": "python3"
  },
  "language_info": {
   "codemirror_mode": {
    "name": "ipython",
    "version": 3
   },
   "file_extension": ".py",
   "mimetype": "text/x-python",
   "name": "python",
   "nbconvert_exporter": "python",
   "pygments_lexer": "ipython3",
   "version": "3.6.3"
  }
 },
 "nbformat": 4,
 "nbformat_minor": 1
}
